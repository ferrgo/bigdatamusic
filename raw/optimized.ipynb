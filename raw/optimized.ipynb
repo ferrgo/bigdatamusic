{
 "cells": [
  {
   "cell_type": "markdown",
   "metadata": {},
   "source": [
    "### Folders for storing files\n",
    "* Using relative path\n",
    "* optimized is already in raw folder"
   ]
  },
  {
   "cell_type": "code",
   "execution_count": 16,
   "metadata": {},
   "outputs": [],
   "source": [
    "RAW = '.'\n",
    "LANDED = '../landed'"
   ]
  },
  {
   "cell_type": "markdown",
   "metadata": {},
   "source": [
    "### Imports"
   ]
  },
  {
   "cell_type": "code",
   "execution_count": 17,
   "metadata": {},
   "outputs": [],
   "source": [
    "import os\n",
    "import librosa\n",
    "import numpy as np\n",
    "from pydub import AudioSegment\n",
    "from pyspark import SparkContext\n",
    "from pyspark.sql.types import StructType, StructField, StringType"
   ]
  },
  {
   "cell_type": "markdown",
   "metadata": {},
   "source": [
    "#### Build and store Spark session"
   ]
  },
  {
   "cell_type": "code",
   "execution_count": 18,
   "metadata": {},
   "outputs": [
    {
     "data": {
      "text/html": [
       "\n",
       "            <div>\n",
       "                <p><b>SparkSession - in-memory</b></p>\n",
       "                \n",
       "        <div>\n",
       "            <p><b>SparkContext</b></p>\n",
       "\n",
       "            <p><a href=\"http://192.168.0.12:4041\">Spark UI</a></p>\n",
       "\n",
       "            <dl>\n",
       "              <dt>Version</dt>\n",
       "                <dd><code>v2.3.2</code></dd>\n",
       "              <dt>Master</dt>\n",
       "                <dd><code>local[*]</code></dd>\n",
       "              <dt>AppName</dt>\n",
       "                <dd><code>MUSIC SPARK</code></dd>\n",
       "            </dl>\n",
       "        </div>\n",
       "        \n",
       "            </div>\n",
       "        "
      ],
      "text/plain": [
       "<pyspark.sql.session.SparkSession at 0x7fa89110cd30>"
      ]
     },
     "execution_count": 18,
     "metadata": {},
     "output_type": "execute_result"
    }
   ],
   "source": [
    "from sagemaker_pyspark import classpath_jars\n",
    "classpath = \":\".join(classpath_jars())\n",
    "\n",
    "from pyspark.sql import SparkSession\n",
    "builder = SparkSession.builder.appName(\"MUSIC SPARK\")\n",
    "builder.config(\n",
    "    \"spark.hadoop.mapreduce.fileoutputcommitter.algorithm.version\", \"2\")\n",
    "# Unecessary setting to the default value\n",
    "#builder.config(\"spark.speculation\", \"false\")\n",
    "builder.config(\"spark.sql.parquet.compression.codec\", \"gzip\")\n",
    "# TODO: What means debut.maxToStringFields?\n",
    "builder.config(\"spark.debug.maxToStringFields\", \"100\")\n",
    "builder.config(\"spark.driver.extraClassPath\", classpath)\n",
    "# Unecessary setting the default value \n",
    "#builder.config(\"spark.driver.memory\", \"1g\")\n",
    "#builder.config(\"spark.driver.cores\", \"1\")\n",
    "builder.config(\"spark.executor-memory\", \"20g\")\n",
    "builder.config(\"spark.executor.cores\", \"4\")\n",
    "\n",
    "\n",
    "builder.master(\"local[*]\")\n",
    "\n",
    "spark = builder.getOrCreate()\n",
    "spark"
   ]
  },
  {
   "cell_type": "markdown",
   "metadata": {},
   "source": [
    "## Transform\n",
    "* MP3 to WAV format\n",
    "* Save in current folder (RAW file)"
   ]
  },
  {
   "cell_type": "code",
   "execution_count": 19,
   "metadata": {},
   "outputs": [],
   "source": [
    "def audio_to_wav(file):\n",
    "    dst = file.replace(LANDED,RAW)\n",
    "    dst = dst.replace('.mp3',\".wav\")\n",
    "    sound = AudioSegment.from_mp3(file)\n",
    "    sound.export(dst, format=\"wav\")\n",
    "    return dst"
   ]
  },
  {
   "cell_type": "markdown",
   "metadata": {},
   "source": [
    "## Extract (Features)"
   ]
  },
  {
   "cell_type": "code",
   "execution_count": 20,
   "metadata": {},
   "outputs": [],
   "source": [
    "def extract_important_feature_music(file):\n",
    "    \n",
    "    songname = file.split('/')[0::-1][0]f\n",
    "    y, sr = librosa.load(file, mono=True, duration=30)\n",
    "    chroma_stft = np.mean(librosa.feature.chroma_stft(y=y, sr=sr))\n",
    "    spec_cent = np.mean(librosa.feature.spectral_centroid(y=y, sr=sr))\n",
    "    spec_bw = np.mean(librosa.feature.spectral_bandwidth(y=y, sr=sr))\n",
    "    rolloff = np.mean(librosa.feature.spectral_rolloff(y=y, sr=sr))\n",
    "    zcr = np.mean(librosa.feature.zero_crossing_rate(y))\n",
    "    \n",
    "    chroma_stft = np.array2string(chroma_stft, precision=4, separator=',',suppress_small=True)\n",
    "    spec_cent = np.array2string(spec_cent, precision=4, separator=',',suppress_small=True)\n",
    "    spec_bw = np.array2string(spec_bw, precision=4, separator=',',suppress_small=True)\n",
    "    rolloff = np.array2string(rolloff, precision=4, separator=',',suppress_small=True)\n",
    "    zcr = np.array2string(zcr, precision=4, separator=',',suppress_small=True)\n",
    "    \n",
    "    \n",
    "    to_append = f'{songname};{chroma_stft};{spec_cent};{spec_bw};{rolloff};{zcr}'    \n",
    "    return to_append"
   ]
  },
  {
   "cell_type": "markdown",
   "metadata": {},
   "source": [
    "### Get all data from landed"
   ]
  },
  {
   "cell_type": "code",
   "execution_count": 21,
   "metadata": {},
   "outputs": [],
   "source": [
    "all_music = [\n",
    "    f'{LANDED}/{file}' for file in os.listdir(LANDED) if '.mp3' in file\n",
    "]"
   ]
  },
  {
   "cell_type": "code",
   "execution_count": 22,
   "metadata": {},
   "outputs": [
    {
     "data": {
      "text/plain": [
       "['../landed/NLE Choppa - Shotta Flow.mp3',\n",
       " '../landed/nymano - jazz and rain.mp3',\n",
       " '../landed/NDBeatz - Often-Waves (Sickick Chill).mp3',\n",
       " '../landed/invention_ - ｍｏｒｆｏｓｉｓ.mp3',\n",
       " '../landed/ZZ - ICY (feat. Thorii).mp3',\n",
       " '../landed/Lil Tjay - Lil Tjay - Brothers (Prod by JDONTHATRACK and Protegebeatz).mp3',\n",
       " '../landed/HIGH ON MUSIC - Danrell x Småland - Hostage.mp3',\n",
       " '../landed/Flipp Dinero - Leave Me Alone (Prod. by Young Forever x Cast Beats).mp3',\n",
       " '../landed/Young Nero - Beyond (Prod. Scott Storch).mp3',\n",
       " '../landed/southernwade - U Feel Like (Prod. by Wade and Drty).mp3',\n",
       " '../landed/Cardi B - Money.mp3',\n",
       " '../landed/SimpkinsTwins - LAmbO DrEams.mp3',\n",
       " '../landed/90sFlav - Ｃａｌｌ ｍｅ.mp3',\n",
       " '../landed/Stryv - ONEDUO - Illusion (Stryv Remix).mp3',\n",
       " '../landed/SyrebralVibes - The Eden Project - Circles.mp3',\n",
       " '../landed/Megan Thee Stallion - Cash Shit feat. DaBaby.mp3',\n",
       " '../landed/Kodak Black - ZEZE (feat. Travis Scott and Offset).mp3',\n",
       " '../landed/Stryv - Ed Sheeran - Thinking Out Loud (Stryv Remix) FOLLOW @stryv ON INSTAGRAM.mp3',\n",
       " '../landed/Jude Moore - Jude Moore - Be Alright.mp3',\n",
       " '../landed/wūsh - late nights with you.mp3',\n",
       " '../landed/A BOOGIE WIT DA HOODIE - Look Back At It.mp3',\n",
       " '../landed/PRDSEOHNO - OHNO - Lil Mama (prod. Fallen Roses and B Dom).mp3',\n",
       " '../landed/Aux Fox - Ellie Goulding - Flux (Aux Fox Remix).mp3',\n",
       " '../landed/Roddy Ricch - Die Young [Prod. by London On Da Track and Rex Kudo].mp3']"
      ]
     },
     "execution_count": 22,
     "metadata": {},
     "output_type": "execute_result"
    }
   ],
   "source": [
    "all_music"
   ]
  },
  {
   "cell_type": "markdown",
   "metadata": {},
   "source": [
    "### RDD CSV parse of important feature"
   ]
  },
  {
   "cell_type": "code",
   "execution_count": 27,
   "metadata": {},
   "outputs": [],
   "source": [
    "pipe_rdd_csv = spark\\\n",
    "        .sparkContext\\\n",
    "        .parallelize(all_music)\\\n",
    "        .map(audio_to_wav)\\\n",
    "        .map(extract_important_feature_music)"
   ]
  },
  {
   "cell_type": "code",
   "execution_count": 24,
   "metadata": {},
   "outputs": [
    {
     "data": {
      "text/plain": [
       "PythonRDD[3] at RDD at PythonRDD.scala:52"
      ]
     },
     "execution_count": 24,
     "metadata": {},
     "output_type": "execute_result"
    }
   ],
   "source": [
    "pipe_rdd_csv"
   ]
  },
  {
   "cell_type": "markdown",
   "metadata": {},
   "source": [
    "### Create Schema for music features"
   ]
  },
  {
   "cell_type": "code",
   "execution_count": 25,
   "metadata": {},
   "outputs": [],
   "source": [
    "schema = StructType([StructField('file_name', StringType(), True),\n",
    "                     StructField('chroma', StringType(), True),\n",
    "                     StructField('spec_cent', StringType(), True),\n",
    "                     StructField('spec_bw', StringType(), True),\n",
    "                     StructField('rolloff', StringType(), True),\n",
    "                     StructField('zcr', StringType(), True)])"
   ]
  },
  {
   "cell_type": "code",
   "execution_count": 26,
   "metadata": {},
   "outputs": [
    {
     "name": "stdout",
     "output_type": "stream",
     "text": [
      "+---------+------+---------+---------+---------+------+\n",
      "|file_name|chroma|spec_cent|  spec_bw|  rolloff|   zcr|\n",
      "+---------+------+---------+---------+---------+------+\n",
      "|        .|0.3913|2232.2017|2086.5985|4074.3025|0.1139|\n",
      "|        .|0.3538|1545.9148|1932.9944|3007.3651|0.0632|\n",
      "+---------+------+---------+---------+---------+------+\n",
      "only showing top 2 rows\n",
      "\n"
     ]
    }
   ],
   "source": [
    "pipe_rdd_csv = pipe_rdd_csv.map(lambda x : x.split(\";\"))\n",
    "rdd = spark.createDataFrame(pipe_rdd_csv,schema)\n",
    "rdd.show(2)"
   ]
  },
  {
   "cell_type": "code",
   "execution_count": 14,
   "metadata": {},
   "outputs": [],
   "source": [
    "rdd.write.csv(f'{RAW}/data',sep=';',mode='overwrite')"
   ]
  },
  {
   "cell_type": "code",
   "execution_count": null,
   "metadata": {},
   "outputs": [],
   "source": []
  }
 ],
 "metadata": {
  "kernelspec": {
   "display_name": "Python 3",
   "language": "python",
   "name": "python3"
  },
  "language_info": {
   "codemirror_mode": {
    "name": "ipython",
    "version": 3
   },
   "file_extension": ".py",
   "mimetype": "text/x-python",
   "name": "python",
   "nbconvert_exporter": "python",
   "pygments_lexer": "ipython3",
   "version": "3.7.3"
  }
 },
 "nbformat": 4,
 "nbformat_minor": 2
}
